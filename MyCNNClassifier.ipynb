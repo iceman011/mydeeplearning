{
  "nbformat": 4,
  "nbformat_minor": 0,
  "metadata": {
    "colab": {
      "name": "Untitled6.ipynb",
      "provenance": [],
      "authorship_tag": "ABX9TyM4VytsG8vPov1D1BC/EtGa",
      "include_colab_link": true
    },
    "kernelspec": {
      "name": "python3",
      "display_name": "Python 3"
    }
  },
  "cells": [
    {
      "cell_type": "markdown",
      "metadata": {
        "id": "view-in-github",
        "colab_type": "text"
      },
      "source": [
        "<a href=\"https://colab.research.google.com/github/iceman011/mydeeplearning/blob/master/MyCNNClassifier.ipynb\" target=\"_parent\"><img src=\"https://colab.research.google.com/assets/colab-badge.svg\" alt=\"Open In Colab\"/></a>"
      ]
    },
    {
      "cell_type": "code",
      "metadata": {
        "id": "DJRbiHSoKpAS",
        "colab_type": "code",
        "colab": {}
      },
      "source": [
        "def conv_block(in_f, out_f, activation='relu', *args, **kwargs):\n",
        "    activations = nn.ModuleDict([\n",
        "                ['lrelu', nn.LeakyReLU()],\n",
        "                ['relu', nn.ReLU()]\n",
        "    ])\n",
        "    \n",
        "    return nn.Sequential(\n",
        "        nn.Conv2d(in_f, out_f, *args, **kwargs),\n",
        "        nn.BatchNorm2d(out_f),\n",
        "        activations[activation]\n",
        "    )\n",
        "\n",
        "def dec_block(in_f, out_f):\n",
        "    return nn.Sequential(\n",
        "        nn.Linear(in_f, out_f),\n",
        "        nn.Sigmoid()\n",
        "    )\n",
        "\n",
        "class MyEncoder(nn.Module):\n",
        "    def __init__(self, enc_sizes, *args, **kwargs):\n",
        "        super().__init__()\n",
        "        self.conv_blokcs = nn.Sequential(*[conv_block(in_f, out_f, kernel_size=3, padding=1, *args, **kwargs) \n",
        "                       for in_f, out_f in zip(enc_sizes, enc_sizes[1:])])\n",
        "        \n",
        "        def forward(self, x):\n",
        "            return self.conv_blokcs(x)\n",
        "        \n",
        "class MyDecoder(nn.Module):\n",
        "    def __init__(self, dec_sizes, n_classes):\n",
        "        super().__init__()\n",
        "        self.dec_blocks = nn.Sequential(*[dec_block(in_f, out_f) \n",
        "                       for in_f, out_f in zip(dec_sizes, dec_sizes[1:])])\n",
        "        self.last = nn.Linear(dec_sizes[-1], n_classes)\n",
        "\n",
        "    def forward(self, x):\n",
        "        return self.dec_blocks()\n",
        "    \n",
        "    \n",
        "class MyCNNClassifier(nn.Module):\n",
        "    def __init__(self, in_c, enc_sizes, dec_sizes,  n_classes, activation='relu'):\n",
        "        super().__init__()\n",
        "        self.enc_sizes = [in_c, *enc_sizes]\n",
        "        self.dec_sizes = [32 * 28 * 28, *dec_sizes]\n",
        "\n",
        "        self.encoder = MyEncoder(self.enc_sizes, activation=activation)\n",
        "        \n",
        "        self.decoder = MyDecoder(dec_sizes, n_classes)\n",
        "        \n",
        "    def forward(self, x):\n",
        "        x = self.encoder(x)\n",
        "        \n",
        "        x = x.flatten(1) # flat\n",
        "        \n",
        "        x = self.decoder(x)\n",
        "        \n",
        "        return x"
      ],
      "execution_count": 0,
      "outputs": []
    }
  ]
}